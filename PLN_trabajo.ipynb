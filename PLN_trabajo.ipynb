{
 "cells": [
  {
   "attachments": {},
   "cell_type": "markdown",
   "metadata": {},
   "source": [
    "# Proyecto de PLN"
   ]
  },
  {
   "attachments": {},
   "cell_type": "markdown",
   "metadata": {},
   "source": [
    "### Clase preprocesado de texto"
   ]
  },
  {
   "cell_type": "code",
   "execution_count": 1,
   "metadata": {},
   "outputs": [],
   "source": [
    "import re\n",
    "import spacy\n",
    "\n",
    "\n",
    "nlp = spacy.load(\"es_core_news_lg\")\n",
    "\n",
    "acentos = [\n",
    "    ('á', 'a'), ('à', 'a'), ('ä', 'a'), ('â', 'a'),\n",
    "    ('é', 'e'), ('è', 'e'), ('ë', 'e'), ('ê', 'e'),\n",
    "    ('í', 'i'), ('ì', 'i'), ('ï', 'i'), ('î', 'i'),\n",
    "    ('ó', 'o'), ('ò', 'o'), ('ö', 'o'), ('ô', 'o'),\n",
    "    ('ú', 'u'), ('ù', 'u'), ('ü', 'u'), ('û', 'u')\n",
    "]\n",
    "   \n",
    "\n",
    "\n",
    "def normalizarDoc(doc):\n",
    "    doc_norm = []\n",
    "    for tweet in doc:\n",
    "        tweet_norm = _normalizarTexto(tweet)\n",
    "        doc_norm.append(tweet_norm)\n",
    "    return doc_norm\n",
    "\n",
    "\n",
    "def _normalizarTexto(texto):\n",
    "    texto = _quitarSignos(texto)\n",
    "    texto = _quitarNumeros(texto)\n",
    "\n",
    "    doc = nlp(texto)\n",
    "    tokens = [t.lemma_.lower()\n",
    "              for t in doc if not t.is_punct and not t.is_space and len(t.text) > 2]\n",
    "    salida = ' '.join(tokens)\n",
    "\n",
    "    return salida\n",
    "\n",
    "\n",
    "def _quitarSignos(texto):\n",
    "    texto = re.sub(r\"([\\.\\?])\", r\"\\1 \", texto)\n",
    "    return texto\n",
    "\n",
    "def _quitarNumeros(texto):\n",
    "    texto = re.sub(r'(\\d+|\\n)','',texto)\n",
    "    return texto\n",
    "\n"
   ]
  },
  {
   "attachments": {},
   "cell_type": "markdown",
   "metadata": {},
   "source": [
    "### Función para cargar los datos"
   ]
  },
  {
   "cell_type": "code",
   "execution_count": 2,
   "metadata": {},
   "outputs": [],
   "source": [
    "import pandas as pd\n",
    "     \n",
    "def cargarDatos(ruta):\n",
    "     pd.set_option('display.max_colwidth', None)\n",
    "     # Leemos los datos\n",
    "     df = pd.read_csv(ruta, index_col=None)\n",
    "     return df"
   ]
  },
  {
   "attachments": {},
   "cell_type": "markdown",
   "metadata": {},
   "source": [
    "### Función para obtener las estadisticas de los resultados"
   ]
  },
  {
   "cell_type": "code",
   "execution_count": 3,
   "metadata": {},
   "outputs": [],
   "source": [
    "from sklearn import metrics\n",
    "import numpy as np\n",
    "\n",
    "def get_metrics(true_labels, predicted_labels):\n",
    "    \"\"\"Calculamos distintas métricas sobre el\n",
    "    rendimiento del modelo. Devuelve un diccionario\n",
    "    con los parámetros medidos\"\"\"\n",
    "\n",
    "    return {\n",
    "        'Accuracy': np.round(\n",
    "            metrics.accuracy_score(true_labels,\n",
    "                                   predicted_labels),\n",
    "            3),\n",
    "        'Precision': np.round(\n",
    "            metrics.precision_score(true_labels,\n",
    "                                    predicted_labels,\n",
    "                                    average='weighted',\n",
    "                                    zero_division=0),\n",
    "            3),\n",
    "        'Recall': np.round(\n",
    "            metrics.recall_score(true_labels,\n",
    "                                 predicted_labels,\n",
    "                                 average='weighted',\n",
    "                                 zero_division=0),\n",
    "            3),\n",
    "        'F1 Score': np.round(\n",
    "            metrics.f1_score(true_labels,\n",
    "                             predicted_labels,\n",
    "                             average='weighted',\n",
    "                             zero_division=0),\n",
    "            3)}"
   ]
  },
  {
   "attachments": {},
   "cell_type": "markdown",
   "metadata": {},
   "source": [
    "### "
   ]
  },
  {
   "cell_type": "code",
   "execution_count": 4,
   "metadata": {},
   "outputs": [
    {
     "name": "stdout",
     "output_type": "stream",
     "text": [
      "              Modelo  Accuracy  F1 Score  Precision  Recall\n",
      "0  multi_class='ovr'     0.244     0.437      0.632   0.355\n"
     ]
    }
   ],
   "source": [
    "from scipy import sparse\n",
    "from sklearn.calibration import LinearSVC\n",
    "from sklearn.multioutput import MultiOutputClassifier\n",
    "from Model.CargarDatos import cargarDatos\n",
    "from Model.PreprocesadoTexto import normalizarDoc\n",
    "from sklearn.model_selection import  train_test_split\n",
    "from sklearn.feature_extraction.text import TfidfVectorizer\n",
    "import pandas as pd\n",
    "\n",
    "dfCsv = cargarDatos('./Datos_test/sem_eval_train_es.csv')\n",
    "corpus = list(dfCsv['Tweet'])\n",
    "corpus = normalizarDoc(corpus)\n",
    "\n",
    "dfTags = dfCsv.drop('ID', axis=1).drop('Tweet', axis=1)\n",
    "labels = dfTags.to_numpy()\n",
    "\n",
    "train_corpus, test_corpus, y_train, y_test = train_test_split(corpus,\n",
    "                                                                 labels,\n",
    "                                                                 test_size=0.3,\n",
    "                                                                 random_state=0\n",
    "                                                                 )\n",
    "\n",
    "tfidfVectorizer = TfidfVectorizer()\n",
    "tfidf_train = tfidfVectorizer.fit_transform(train_corpus)\n",
    "tfidf_test = tfidfVectorizer.transform(test_corpus)\n",
    "y_train_sparse = sparse.csr_matrix(y_train)\n",
    "\n",
    "modelSvc = LinearSVC(C=0.7,  \n",
    "                    penalty='l1', \n",
    "                    dual=False)\n",
    "\n",
    "clf = MultiOutputClassifier(estimator=modelSvc)\n",
    "\n",
    "\n",
    "clf.fit(tfidf_train, y_train_sparse.toarray())\n",
    "y_pred = clf.predict(tfidf_test)\n",
    "metrica = get_metrics(true_labels=y_test, predicted_labels=y_pred)\n",
    "data = pd.DataFrame([(\"multi_class='ovr'\", metrica['Accuracy'], metrica['F1 Score'], metrica['Precision'],metrica['Recall'])], columns=['Modelo', 'Accuracy', 'F1 Score', 'Precision', 'Recall'])\n",
    "print(data)"
   ]
  },
  {
   "cell_type": "code",
   "execution_count": 5,
   "metadata": {},
   "outputs": [],
   "source": [
    "dfCsv = cargarDatos('./Datos_test/sem_eval_train_es.csv')\n",
    "train_corpus = list(dfCsv['Tweet'])\n",
    "train_corpus = normalizarDoc(train_corpus)\n",
    "\n",
    "dfCsvTest = cargarDatos('./Datos_test/sem_eval_test_grupo_8.csv')\n",
    "test_corpus = list(dfCsvTest['Tweet'])\n",
    "test_corpus = normalizarDoc(test_corpus)\n",
    "\n",
    "dfTags = dfCsv.drop('ID', axis=1).drop('Tweet', axis=1)\n",
    "y_train = dfTags.to_numpy()\n",
    "\n",
    "\n",
    "\n",
    "tfidfVectorizer = TfidfVectorizer()\n",
    "tfidf_train = tfidfVectorizer.fit_transform(train_corpus)\n",
    "tfidf_test = tfidfVectorizer.transform(test_corpus)\n",
    "y_train_sparse = sparse.csr_matrix(y_train)\n",
    "\n",
    "\n",
    "\n",
    "modelSvc = LinearSVC(C=0.7,  \n",
    "                    penalty='l1', \n",
    "                    dual=False)\n",
    "clf = MultiOutputClassifier(estimator=modelSvc)\n",
    "clf.fit(tfidf_train, y_train_sparse.toarray())\n",
    "\n",
    "y_pred = clf.predict(tfidf_test)\n"
   ]
  },
  {
   "cell_type": "code",
   "execution_count": 23,
   "metadata": {},
   "outputs": [
    {
     "ename": "TypeError",
     "evalue": "Index(...) must be called with a collection of some kind, 'ID' was passed",
     "output_type": "error",
     "traceback": [
      "\u001b[1;31m---------------------------------------------------------------------------\u001b[0m",
      "\u001b[1;31mTypeError\u001b[0m                                 Traceback (most recent call last)",
      "Cell \u001b[1;32mIn[23], line 1\u001b[0m\n\u001b[1;32m----> 1\u001b[0m df \u001b[39m=\u001b[39m pd\u001b[39m.\u001b[39;49mDataFrame(\u001b[39mlist\u001b[39;49m(dfCsvTest[\u001b[39m'\u001b[39;49m\u001b[39mID\u001b[39;49m\u001b[39m'\u001b[39;49m]), columns\u001b[39m=\u001b[39;49m\u001b[39m'\u001b[39;49m\u001b[39mID\u001b[39;49m\u001b[39m'\u001b[39;49m)\n\u001b[0;32m      2\u001b[0m df[dfTags\u001b[39m.\u001b[39mcolumns] \u001b[39m=\u001b[39m y_pred\n\u001b[0;32m      3\u001b[0m df\u001b[39m.\u001b[39minfo()\n",
      "File \u001b[1;32mc:\\Users\\pc_es\\Desktop\\UNIVERSIDAD\\4GII\\PLN-Proyecto\\PLN_Trabajo\\.venv\\lib\\site-packages\\pandas\\core\\frame.py:798\u001b[0m, in \u001b[0;36mDataFrame.__init__\u001b[1;34m(self, data, index, columns, dtype, copy)\u001b[0m\n\u001b[0;32m    790\u001b[0m         mgr \u001b[39m=\u001b[39m arrays_to_mgr(\n\u001b[0;32m    791\u001b[0m             arrays,\n\u001b[0;32m    792\u001b[0m             columns,\n\u001b[1;32m   (...)\u001b[0m\n\u001b[0;32m    795\u001b[0m             typ\u001b[39m=\u001b[39mmanager,\n\u001b[0;32m    796\u001b[0m         )\n\u001b[0;32m    797\u001b[0m     \u001b[39melse\u001b[39;00m:\n\u001b[1;32m--> 798\u001b[0m         mgr \u001b[39m=\u001b[39m ndarray_to_mgr(\n\u001b[0;32m    799\u001b[0m             data,\n\u001b[0;32m    800\u001b[0m             index,\n\u001b[0;32m    801\u001b[0m             columns,\n\u001b[0;32m    802\u001b[0m             dtype\u001b[39m=\u001b[39;49mdtype,\n\u001b[0;32m    803\u001b[0m             copy\u001b[39m=\u001b[39;49mcopy,\n\u001b[0;32m    804\u001b[0m             typ\u001b[39m=\u001b[39;49mmanager,\n\u001b[0;32m    805\u001b[0m         )\n\u001b[0;32m    806\u001b[0m \u001b[39melse\u001b[39;00m:\n\u001b[0;32m    807\u001b[0m     mgr \u001b[39m=\u001b[39m dict_to_mgr(\n\u001b[0;32m    808\u001b[0m         {},\n\u001b[0;32m    809\u001b[0m         index,\n\u001b[1;32m   (...)\u001b[0m\n\u001b[0;32m    812\u001b[0m         typ\u001b[39m=\u001b[39mmanager,\n\u001b[0;32m    813\u001b[0m     )\n",
      "File \u001b[1;32mc:\\Users\\pc_es\\Desktop\\UNIVERSIDAD\\4GII\\PLN-Proyecto\\PLN_Trabajo\\.venv\\lib\\site-packages\\pandas\\core\\internals\\construction.py:333\u001b[0m, in \u001b[0;36mndarray_to_mgr\u001b[1;34m(values, index, columns, dtype, copy, typ)\u001b[0m\n\u001b[0;32m    324\u001b[0m     values \u001b[39m=\u001b[39m sanitize_array(\n\u001b[0;32m    325\u001b[0m         values,\n\u001b[0;32m    326\u001b[0m         \u001b[39mNone\u001b[39;00m,\n\u001b[1;32m   (...)\u001b[0m\n\u001b[0;32m    329\u001b[0m         allow_2d\u001b[39m=\u001b[39m\u001b[39mTrue\u001b[39;00m,\n\u001b[0;32m    330\u001b[0m     )\n\u001b[0;32m    332\u001b[0m \u001b[39m# _prep_ndarraylike ensures that values.ndim == 2 at this point\u001b[39;00m\n\u001b[1;32m--> 333\u001b[0m index, columns \u001b[39m=\u001b[39m _get_axes(\n\u001b[0;32m    334\u001b[0m     values\u001b[39m.\u001b[39;49mshape[\u001b[39m0\u001b[39;49m], values\u001b[39m.\u001b[39;49mshape[\u001b[39m1\u001b[39;49m], index\u001b[39m=\u001b[39;49mindex, columns\u001b[39m=\u001b[39;49mcolumns\n\u001b[0;32m    335\u001b[0m )\n\u001b[0;32m    337\u001b[0m _check_values_indices_shape_match(values, index, columns)\n\u001b[0;32m    339\u001b[0m \u001b[39mif\u001b[39;00m typ \u001b[39m==\u001b[39m \u001b[39m\"\u001b[39m\u001b[39marray\u001b[39m\u001b[39m\"\u001b[39m:\n",
      "File \u001b[1;32mc:\\Users\\pc_es\\Desktop\\UNIVERSIDAD\\4GII\\PLN-Proyecto\\PLN_Trabajo\\.venv\\lib\\site-packages\\pandas\\core\\internals\\construction.py:738\u001b[0m, in \u001b[0;36m_get_axes\u001b[1;34m(N, K, index, columns)\u001b[0m\n\u001b[0;32m    736\u001b[0m     columns \u001b[39m=\u001b[39m default_index(K)\n\u001b[0;32m    737\u001b[0m \u001b[39melse\u001b[39;00m:\n\u001b[1;32m--> 738\u001b[0m     columns \u001b[39m=\u001b[39m ensure_index(columns)\n\u001b[0;32m    739\u001b[0m \u001b[39mreturn\u001b[39;00m index, columns\n",
      "File \u001b[1;32mc:\\Users\\pc_es\\Desktop\\UNIVERSIDAD\\4GII\\PLN-Proyecto\\PLN_Trabajo\\.venv\\lib\\site-packages\\pandas\\core\\indexes\\base.py:7125\u001b[0m, in \u001b[0;36mensure_index\u001b[1;34m(index_like, copy)\u001b[0m\n\u001b[0;32m   7123\u001b[0m         \u001b[39mreturn\u001b[39;00m Index(index_like, copy\u001b[39m=\u001b[39mcopy, tupleize_cols\u001b[39m=\u001b[39m\u001b[39mFalse\u001b[39;00m)\n\u001b[0;32m   7124\u001b[0m \u001b[39melse\u001b[39;00m:\n\u001b[1;32m-> 7125\u001b[0m     \u001b[39mreturn\u001b[39;00m Index(index_like, copy\u001b[39m=\u001b[39;49mcopy)\n",
      "File \u001b[1;32mc:\\Users\\pc_es\\Desktop\\UNIVERSIDAD\\4GII\\PLN-Proyecto\\PLN_Trabajo\\.venv\\lib\\site-packages\\pandas\\core\\indexes\\base.py:516\u001b[0m, in \u001b[0;36mIndex.__new__\u001b[1;34m(cls, data, dtype, copy, name, tupleize_cols)\u001b[0m\n\u001b[0;32m    513\u001b[0m         data \u001b[39m=\u001b[39m com\u001b[39m.\u001b[39masarray_tuplesafe(data, dtype\u001b[39m=\u001b[39m_dtype_obj)\n\u001b[0;32m    515\u001b[0m \u001b[39melif\u001b[39;00m is_scalar(data):\n\u001b[1;32m--> 516\u001b[0m     \u001b[39mraise\u001b[39;00m \u001b[39mcls\u001b[39;49m\u001b[39m.\u001b[39;49m_raise_scalar_data_error(data)\n\u001b[0;32m    517\u001b[0m \u001b[39melif\u001b[39;00m \u001b[39mhasattr\u001b[39m(data, \u001b[39m\"\u001b[39m\u001b[39m__array__\u001b[39m\u001b[39m\"\u001b[39m):\n\u001b[0;32m    518\u001b[0m     \u001b[39mreturn\u001b[39;00m Index(np\u001b[39m.\u001b[39masarray(data), dtype\u001b[39m=\u001b[39mdtype, copy\u001b[39m=\u001b[39mcopy, name\u001b[39m=\u001b[39mname)\n",
      "File \u001b[1;32mc:\\Users\\pc_es\\Desktop\\UNIVERSIDAD\\4GII\\PLN-Proyecto\\PLN_Trabajo\\.venv\\lib\\site-packages\\pandas\\core\\indexes\\base.py:5065\u001b[0m, in \u001b[0;36mIndex._raise_scalar_data_error\u001b[1;34m(cls, data)\u001b[0m\n\u001b[0;32m   5060\u001b[0m \u001b[39m@final\u001b[39m\n\u001b[0;32m   5061\u001b[0m \u001b[39m@classmethod\u001b[39m\n\u001b[0;32m   5062\u001b[0m \u001b[39mdef\u001b[39;00m \u001b[39m_raise_scalar_data_error\u001b[39m(\u001b[39mcls\u001b[39m, data):\n\u001b[0;32m   5063\u001b[0m     \u001b[39m# We return the TypeError so that we can raise it from the constructor\u001b[39;00m\n\u001b[0;32m   5064\u001b[0m     \u001b[39m#  in order to keep mypy happy\u001b[39;00m\n\u001b[1;32m-> 5065\u001b[0m     \u001b[39mraise\u001b[39;00m \u001b[39mTypeError\u001b[39;00m(\n\u001b[0;32m   5066\u001b[0m         \u001b[39mf\u001b[39m\u001b[39m\"\u001b[39m\u001b[39m{\u001b[39;00m\u001b[39mcls\u001b[39m\u001b[39m.\u001b[39m\u001b[39m__name__\u001b[39m\u001b[39m}\u001b[39;00m\u001b[39m(...) must be called with a collection of some \u001b[39m\u001b[39m\"\u001b[39m\n\u001b[0;32m   5067\u001b[0m         \u001b[39mf\u001b[39m\u001b[39m\"\u001b[39m\u001b[39mkind, \u001b[39m\u001b[39m{\u001b[39;00m\u001b[39mrepr\u001b[39m(data)\u001b[39m}\u001b[39;00m\u001b[39m was passed\u001b[39m\u001b[39m\"\u001b[39m\n\u001b[0;32m   5068\u001b[0m     )\n",
      "\u001b[1;31mTypeError\u001b[0m: Index(...) must be called with a collection of some kind, 'ID' was passed"
     ]
    }
   ],
   "source": [
    "\n",
    "df = pd.DataFrame(list(dfCsvTest['ID']), columns='ID')\n",
    "df.info()"
   ]
  }
 ],
 "metadata": {
  "kernelspec": {
   "display_name": ".venv",
   "language": "python",
   "name": "python3"
  },
  "language_info": {
   "codemirror_mode": {
    "name": "ipython",
    "version": 3
   },
   "file_extension": ".py",
   "mimetype": "text/x-python",
   "name": "python",
   "nbconvert_exporter": "python",
   "pygments_lexer": "ipython3",
   "version": "3.10.7"
  },
  "orig_nbformat": 4
 },
 "nbformat": 4,
 "nbformat_minor": 2
}
