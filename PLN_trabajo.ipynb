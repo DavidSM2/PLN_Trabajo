{
 "cells": [
  {
   "attachments": {},
   "cell_type": "markdown",
   "metadata": {},
   "source": [
    "# Proyecto de PLN"
   ]
  },
  {
   "attachments": {},
   "cell_type": "markdown",
   "metadata": {},
   "source": [
    "## Realizado por: David Sanchis Morales, Pablo Rubio Asensi y Raúl Pina Fornés"
   ]
  },
  {
   "attachments": {},
   "cell_type": "markdown",
   "metadata": {},
   "source": [
    "### Clase preprocesado de texto"
   ]
  },
  {
   "cell_type": "code",
   "execution_count": 14,
   "metadata": {},
   "outputs": [],
   "source": [
    "import re\n",
    "import spacy\n",
    "\n",
    "\n",
    "nlp = spacy.load(\"es_core_news_lg\")\n",
    "\n",
    "def normalizarDoc(doc):\n",
    "    doc_norm = []\n",
    "    for tweet in doc:\n",
    "        tweet_norm = _normalizarTexto(tweet)\n",
    "        doc_norm.append(tweet_norm)\n",
    "    return doc_norm\n",
    "\n",
    "\n",
    "def _normalizarTexto(texto):\n",
    "    texto = _quitarSignos(texto)\n",
    "    texto = _quitarNumeros(texto)\n",
    "\n",
    "    doc = nlp(texto)\n",
    "    tokens = [t.lemma_.lower()\n",
    "              for t in doc if not t.is_punct and not t.is_space and len(t.text) > 2]\n",
    "    salida = ' '.join(tokens)\n",
    "\n",
    "    return salida\n",
    "\n",
    "\n",
    "def _quitarSignos(texto):\n",
    "    texto = re.sub(r\"([\\.\\?])\", r\"\\1 \", texto)\n",
    "    return texto\n",
    "\n",
    "def _quitarNumeros(texto):\n",
    "    texto = re.sub(r'(\\d+|\\n)','',texto)\n",
    "    return texto\n",
    "\n"
   ]
  },
  {
   "attachments": {},
   "cell_type": "markdown",
   "metadata": {},
   "source": [
    "### Función para cargar y guardar los datos"
   ]
  },
  {
   "cell_type": "code",
   "execution_count": 15,
   "metadata": {},
   "outputs": [],
   "source": [
    "import pandas as pd\n",
    "     \n",
    "def cargarDatos(ruta):\n",
    "     pd.set_option('display.max_colwidth', None)\n",
    "     # Leemos los datos\n",
    "     df = pd.read_csv(ruta, index_col=None)\n",
    "     return df\n",
    "def guardarDatos(ruta, pandas):\n",
    "     pandas.to_csv(ruta)"
   ]
  },
  {
   "attachments": {},
   "cell_type": "markdown",
   "metadata": {},
   "source": [
    "### Función para obtener las estadisticas de los resultados"
   ]
  },
  {
   "cell_type": "code",
   "execution_count": 16,
   "metadata": {},
   "outputs": [],
   "source": [
    "from sklearn import metrics\n",
    "import numpy as np\n",
    "\n",
    "def get_metrics(true_labels, predicted_labels):\n",
    "    \"\"\"Calculamos distintas métricas sobre el\n",
    "    rendimiento del modelo. Devuelve un diccionario\n",
    "    con los parámetros medidos\"\"\"\n",
    "\n",
    "    return {\n",
    "        'Accuracy': np.round(\n",
    "            metrics.accuracy_score(true_labels,\n",
    "                                   predicted_labels),\n",
    "            3),\n",
    "        'Precision': np.round(\n",
    "            metrics.precision_score(true_labels,\n",
    "                                    predicted_labels,\n",
    "                                    average='weighted',\n",
    "                                    zero_division=0),\n",
    "            3),\n",
    "        'Recall': np.round(\n",
    "            metrics.recall_score(true_labels,\n",
    "                                 predicted_labels,\n",
    "                                 average='weighted',\n",
    "                                 zero_division=0),\n",
    "            3),\n",
    "        'F1 Score': np.round(\n",
    "            metrics.f1_score(true_labels,\n",
    "                             predicted_labels,\n",
    "                             average='weighted',\n",
    "                             zero_division=0),\n",
    "            3)}"
   ]
  },
  {
   "attachments": {},
   "cell_type": "markdown",
   "metadata": {},
   "source": [
    "### "
   ]
  },
  {
   "cell_type": "code",
   "execution_count": 17,
   "metadata": {},
   "outputs": [
    {
     "name": "stdout",
     "output_type": "stream",
     "text": [
      "Nuestro mejor resultado obtenido\n",
      "              Modelo  Accuracy  F1 Score  Precision  Recall\n",
      "0  multi_class='ovr'     0.244     0.437      0.636   0.355\n"
     ]
    }
   ],
   "source": [
    "from scipy import sparse\n",
    "from sklearn.calibration import LinearSVC\n",
    "from sklearn.multioutput import MultiOutputClassifier\n",
    "\n",
    "from sklearn.model_selection import  train_test_split\n",
    "from sklearn.feature_extraction.text import TfidfVectorizer\n",
    "import pandas as pd\n",
    "\n",
    "dfCsv = cargarDatos('./Datos_test/sem_eval_train_es.csv')\n",
    "corpus = list(dfCsv['Tweet'])\n",
    "corpus = normalizarDoc(corpus)\n",
    "\n",
    "dfTags = dfCsv.drop('ID', axis=1).drop('Tweet', axis=1)\n",
    "labels = dfTags.to_numpy()\n",
    "\n",
    "train_corpus, test_corpus, y_train, y_test = train_test_split(corpus,\n",
    "                                                                 labels,\n",
    "                                                                 test_size=0.3,\n",
    "                                                                 random_state=0\n",
    "                                                                 )\n",
    "\n",
    "tfidfVectorizer = TfidfVectorizer()\n",
    "tfidf_train = tfidfVectorizer.fit_transform(train_corpus)\n",
    "tfidf_test = tfidfVectorizer.transform(test_corpus)\n",
    "y_train_sparse = sparse.csr_matrix(y_train)\n",
    "\n",
    "modelSvc = LinearSVC(C=0.7,  \n",
    "                    penalty='l1', \n",
    "                    dual=False)\n",
    "\n",
    "clf = MultiOutputClassifier(estimator=modelSvc)\n",
    "\n",
    "\n",
    "clf.fit(tfidf_train, y_train_sparse.toarray())\n",
    "y_pred = clf.predict(tfidf_test)\n",
    "metrica = get_metrics(true_labels=y_test, predicted_labels=y_pred)\n",
    "data = pd.DataFrame([(\"multi_class='ovr'\", metrica['Accuracy'], metrica['F1 Score'], metrica['Precision'],metrica['Recall'])], columns=['Modelo', 'Accuracy', 'F1 Score', 'Precision', 'Recall'])\n",
    "print('Nuestro mejor resultado obtenido')\n",
    "print(data)"
   ]
  },
  {
   "cell_type": "code",
   "execution_count": 18,
   "metadata": {},
   "outputs": [],
   "source": [
    "dfCsv = cargarDatos('./Datos_test/sem_eval_train_es.csv')\n",
    "train_corpus = list(dfCsv['Tweet'])\n",
    "train_corpus = normalizarDoc(train_corpus)\n",
    "\n",
    "dfCsvTest = cargarDatos('./Datos_test/sem_eval_test_grupo_8.csv')\n",
    "test_corpus = list(dfCsvTest['Tweet'])\n",
    "test_corpus = normalizarDoc(test_corpus)\n",
    "\n",
    "dfTags = dfCsv.drop('ID', axis=1).drop('Tweet', axis=1)\n",
    "y_train = dfTags.to_numpy()\n",
    "\n",
    "\n",
    "\n",
    "tfidfVectorizer = TfidfVectorizer()\n",
    "tfidf_train = tfidfVectorizer.fit_transform(train_corpus)\n",
    "tfidf_test = tfidfVectorizer.transform(test_corpus)\n",
    "y_train_sparse = sparse.csr_matrix(y_train)\n",
    "\n",
    "\n",
    "\n",
    "modelSvc = LinearSVC(C=0.7,  \n",
    "                    penalty='l1', \n",
    "                    dual=False)\n",
    "clf = MultiOutputClassifier(estimator=modelSvc)\n",
    "clf.fit(tfidf_train, y_train_sparse.toarray())\n",
    "\n",
    "y_pred = clf.predict(tfidf_test)\n"
   ]
  },
  {
   "attachments": {},
   "cell_type": "markdown",
   "metadata": {},
   "source": [
    "### Creamos el Dataframe para guardar los datos con los IDs y mostramos la info"
   ]
  },
  {
   "cell_type": "code",
   "execution_count": 19,
   "metadata": {},
   "outputs": [
    {
     "name": "stdout",
     "output_type": "stream",
     "text": [
      "<class 'pandas.core.frame.DataFrame'>\n",
      "RangeIndex: 679 entries, 0 to 678\n",
      "Data columns (total 12 columns):\n",
      " #   Column        Non-Null Count  Dtype \n",
      "---  ------        --------------  ----- \n",
      " 0   ID            679 non-null    object\n",
      " 1   anger         679 non-null    bool  \n",
      " 2   anticipation  679 non-null    bool  \n",
      " 3   disgust       679 non-null    bool  \n",
      " 4   fear          679 non-null    bool  \n",
      " 5   joy           679 non-null    bool  \n",
      " 6   love          679 non-null    bool  \n",
      " 7   optimism      679 non-null    bool  \n",
      " 8   pessimism     679 non-null    bool  \n",
      " 9   sadness       679 non-null    bool  \n",
      " 10  surprise      679 non-null    bool  \n",
      " 11  trust         679 non-null    bool  \n",
      "dtypes: bool(11), object(1)\n",
      "memory usage: 12.7+ KB\n"
     ]
    }
   ],
   "source": [
    "ids = list(dfCsvTest['ID'])\n",
    "df = pd.DataFrame(ids, columns=['ID'])\n",
    "df[dfTags.columns] = y_pred\n",
    "guardarDatos('./resultados_grupo_8.csv', df)\n",
    "df.info()"
   ]
  }
 ],
 "metadata": {
  "kernelspec": {
   "display_name": ".venv",
   "language": "python",
   "name": "python3"
  },
  "language_info": {
   "codemirror_mode": {
    "name": "ipython",
    "version": 3
   },
   "file_extension": ".py",
   "mimetype": "text/x-python",
   "name": "python",
   "nbconvert_exporter": "python",
   "pygments_lexer": "ipython3",
   "version": "3.10.7"
  },
  "orig_nbformat": 4
 },
 "nbformat": 4,
 "nbformat_minor": 2
}
